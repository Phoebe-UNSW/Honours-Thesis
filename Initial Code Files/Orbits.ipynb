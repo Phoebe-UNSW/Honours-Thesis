{
 "cells": [
  {
   "cell_type": "markdown",
   "id": "64353b56-aa0e-43ae-85a5-f4bbb94b5238",
   "metadata": {},
   "source": [
    "# Orbits"
   ]
  },
  {
   "cell_type": "markdown",
   "id": "99ea4cf6-d4da-4a02-b2d5-0f8f3839f7cc",
   "metadata": {},
   "source": [
    "### COEs"
   ]
  },
  {
   "cell_type": "code",
   "execution_count": null,
   "id": "b87ba88a-6208-4df8-81a8-41ac8e996178",
   "metadata": {},
   "outputs": [],
   "source": [
    "e =\n",
    "a =\n",
    "i =\n",
    "Omega =\n",
    "w =\n",
    "theta = "
   ]
  },
  {
   "cell_type": "code",
   "execution_count": null,
   "id": "d8319d72-550d-418d-b9e2-0287fad563b6",
   "metadata": {},
   "outputs": [],
   "source": [
    "def COE_orbit():\n",
    "    "
   ]
  }
 ],
 "metadata": {
  "kernelspec": {
   "display_name": "Python 3 (ipykernel)",
   "language": "python",
   "name": "python3"
  },
  "language_info": {
   "codemirror_mode": {
    "name": "ipython",
    "version": 3
   },
   "file_extension": ".py",
   "mimetype": "text/x-python",
   "name": "python",
   "nbconvert_exporter": "python",
   "pygments_lexer": "ipython3",
   "version": "3.9.19"
  }
 },
 "nbformat": 4,
 "nbformat_minor": 5
}
