{
 "cells": [
  {
   "cell_type": "markdown",
   "id": "49d50607-d9e5-4943-8c5d-97d8656591c4",
   "metadata": {},
   "source": [
    "# Pose Transformations"
   ]
  },
  {
   "cell_type": "markdown",
   "id": "f0d3f930-857d-453f-924e-a41a3cce2ed1",
   "metadata": {},
   "source": [
    "#### Assumptions\n",
    "-  The centre of the image is the S/C location.\n",
    "-  "
   ]
  },
  {
   "cell_type": "code",
   "execution_count": 14,
   "id": "306b59da-8617-4d59-97ae-8adc00d1f584",
   "metadata": {},
   "outputs": [],
   "source": [
    "def map_trans(LONG1, LONG2, LAT1, LAT2, xprime, yprime, x, y):\n",
    "    long = LONG1 + yprime * y/(LONG2 - LONG1)\n",
    "    lat = LAT1 + xprime * x/(LAT2 - LAT1)\n",
    "    return lat, long"
   ]
  },
  {
   "cell_type": "markdown",
   "id": "7ed93201-0820-4346-8ebd-11da6d9a5203",
   "metadata": {},
   "source": [
    "Example:"
   ]
  },
  {
   "cell_type": "code",
   "execution_count": 22,
   "id": "d5b32015-1ca4-4779-bd7a-e3ca93084c5a",
   "metadata": {},
   "outputs": [
    {
     "name": "stdout",
     "output_type": "stream",
     "text": [
      "(18.609917355371902, 5.018407960199005)\n"
     ]
    }
   ],
   "source": [
    "# THIS IS STILL BROKEN! IT REQUIRES PIXELS IN BOTH IMAGES TO BE THE SAME SIZE AND THEREFORE X,Y < |LAT|, |LONG|.\n",
    "LONG1 = 2.7;\n",
    "LONG2 = 22.8;\n",
    "LAT1 = 5.8;\n",
    "LAT2 = 17.9;\n",
    "xprime = 15.5\n",
    "yprime = 4.66\n",
    "x = 10\n",
    "y = 10\n",
    "lat_long = map_trans(LONG1, LONG2, LAT1, LAT2, xprime, yprime, x, y)\n",
    "print(lat_long)"
   ]
  },
  {
   "cell_type": "code",
   "execution_count": null,
   "id": "30404e19-c3a6-453f-8a62-5554f23034d6",
   "metadata": {},
   "outputs": [],
   "source": []
  }
 ],
 "metadata": {
  "kernelspec": {
   "display_name": "Python 3 (ipykernel)",
   "language": "python",
   "name": "python3"
  },
  "language_info": {
   "codemirror_mode": {
    "name": "ipython",
    "version": 3
   },
   "file_extension": ".py",
   "mimetype": "text/x-python",
   "name": "python",
   "nbconvert_exporter": "python",
   "pygments_lexer": "ipython3",
   "version": "3.9.19"
  }
 },
 "nbformat": 4,
 "nbformat_minor": 5
}
